{
 "cells": [
  {
   "cell_type": "markdown",
   "metadata": {
    "collapsed": true
   },
   "source": [
    "<h1>My Jupyter Notebook on IBM Watson Studio</h1>"
   ]
  },
  {
   "cell_type": "markdown",
   "metadata": {},
   "source": [
    "<b>Pavan Kumar</b>\n",
    "\n",
    "Data Scientist"
   ]
  },
  {
   "cell_type": "markdown",
   "metadata": {},
   "source": [
    "<i>I am interested in data science because looking at un-structured data, raw data and making them into intresting useful data feels really great for me and data is the major factor for a industry to grow as a big, this made me to choose carrier in data science.</i>"
   ]
  },
  {
   "cell_type": "markdown",
   "metadata": {},
   "source": [
    "<b>The below code will check palindrome or not.</b>"
   ]
  },
  {
   "cell_type": "code",
   "execution_count": 5,
   "metadata": {},
   "outputs": [
    {
     "name": "stdout",
     "output_type": "stream",
     "text": [
      "Palindrome\n"
     ]
    }
   ],
   "source": [
    "str=\"MadAM\"\n",
    "s=str.lower()\n",
    "reverse=\"\"\n",
    "n=len(s)\n",
    "for i in range(n-1,-1,-1):\n",
    "    reverse+=s[i]\n",
    "if(reverse==s):\n",
    "    print(\"Palindrome\")\n",
    "else:\n",
    "    print(\"Not a Palindrome\")"
   ]
  },
  {
   "cell_type": "markdown",
   "metadata": {},
   "source": [
    "<h2>Numbred list</h2>\n",
    "<b>My favourite places in India</b>\n",
    "1, Bangalore\n",
    "2, Kanyakumari\n",
    "3, Mangalore\n",
    "4, Goa\n",
    "6, Pondicherry\n",
    "\n",
    "<h2>Hyperlink</h2>\n",
    "<a href=https://in.coursera.org/>Visit Coursera.org</a>\n",
    "\n",
    "\n",
    "<h2>Bullet List</h2>\n",
    "<b>Milk bewarages</b>\n",
    "<ul>\n",
    "  <li>Coffee</li>\n",
    "  <li>Tea</li>\n",
    "  <li>Milk</li>\n",
    "</ul>  \n"
   ]
  },
  {
   "cell_type": "code",
   "execution_count": null,
   "metadata": {},
   "outputs": [],
   "source": []
  }
 ],
 "metadata": {
  "kernelspec": {
   "display_name": "Python 3.9",
   "language": "python",
   "name": "python3"
  },
  "language_info": {
   "codemirror_mode": {
    "name": "ipython",
    "version": 3
   },
   "file_extension": ".py",
   "mimetype": "text/x-python",
   "name": "python",
   "nbconvert_exporter": "python",
   "pygments_lexer": "ipython3",
   "version": "3.9.12"
  }
 },
 "nbformat": 4,
 "nbformat_minor": 1
}
